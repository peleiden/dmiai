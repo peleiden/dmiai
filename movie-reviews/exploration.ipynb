{
 "cells": [
  {
   "cell_type": "markdown",
   "metadata": {},
   "source": [
    "This notebook contains exploration of using hedonometer for sentiment analysis.\n",
    "\n",
    "Conclusion: Very bad, much worse than just guessing 2.5 for each review."
   ]
  },
  {
   "cell_type": "code",
   "execution_count": 78,
   "metadata": {},
   "outputs": [],
   "source": [
    "import matplotlib.pyplot as plt\n",
    "import numpy as np\n",
    "import csv\n",
    "from tqdm import tqdm\n",
    "\n",
    "from train import load_data, parse_score"
   ]
  },
  {
   "cell_type": "code",
   "execution_count": 79,
   "metadata": {},
   "outputs": [],
   "source": [
    "def coerce_score(score: float) -> float:\n",
    "    \"\"\" Converts predictions in [0, 1] to the used interval [0.5, 5] \"\"\"\n",
    "    score += 0.5\n",
    "    score *= 5\n",
    "    if score < 0.5:\n",
    "        score = 0.5\n",
    "    elif score > 5:\n",
    "        score = 5\n",
    "    return score"
   ]
  },
  {
   "cell_type": "code",
   "execution_count": 80,
   "metadata": {},
   "outputs": [
    {
     "name": "stderr",
     "output_type": "stream",
     "text": [
      "1130018it [00:05, 194835.70it/s]\n",
      "100%|██████████| 1130018/1130018 [00:01<00:00, 880591.77it/s]\n"
     ]
    }
   ],
   "source": [
    "rs, _ = load_data(0, 0)\n",
    "reviews = list()\n",
    "for i, r in enumerate(tqdm(rs)):\n",
    "    r.score = parse_score(r)\n",
    "    if r.score != -1:\n",
    "        r.score = coerce_score(r.score)\n",
    "        reviews.append(r)"
   ]
  },
  {
   "cell_type": "code",
   "execution_count": 81,
   "metadata": {},
   "outputs": [],
   "source": [
    "words = list()\n",
    "happiii = list()\n",
    "with open(\"Hedonometer.csv\") as f:\n",
    "    r = csv.reader(f)\n",
    "    next(r)\n",
    "    for row in r:\n",
    "        words.append(row[2])\n",
    "        happiii.append(float(row[3]))\n",
    "happiii = np.array(happiii)\n",
    "happiii -= happiii[-1]\n",
    "happiii /= happiii[0]\n",
    "happiii *= 4.5\n",
    "happiii += 0.5\n",
    "words = { word: happii for word, happii in zip(words, happiii) }"
   ]
  },
  {
   "cell_type": "code",
   "execution_count": 82,
   "metadata": {},
   "outputs": [
    {
     "name": "stderr",
     "output_type": "stream",
     "text": [
      "  9%|▊         | 30972/357046 [00:00<00:02, 155301.63it/s]"
     ]
    },
    {
     "name": "stdout",
     "output_type": "stream",
     "text": [
      "\n",
      "2.0 2.75\n",
      "You've seen this movie without even seeing it.\n",
      "1.0 3.1041666666666665\n",
      "What a disappointment Downsizingturns out to be, a nearly complete waste of an incredibly original concept from director Alexander Payne.\n",
      "3.0 2.9866071428571423\n",
      "Proof positive that long-lived individuals possess the resilience to handle anything and everything that life throws at them.\n",
      "5.0 3.1776785714285714\n",
      "Spielberg puts the technology to good use at times ... but the actors don't really bring anything special to the characters that a team of animators couldn't have achieved on its own.\n",
      "3.0 3.0870535714285707\n",
      "It is cute, and good fun most of the way.\n",
      "3.0 3.410714285714286\n",
      "The funniest thing I've ever seen in my life.\n",
      "5.0 3.4187500000000006\n",
      "For fans of visceral, lean and taut cinema, this is an object lesson in power and economy.\n",
      "4.0 3.1223958333333335\n",
      "Earthy Duvall vehicle, wonderful character study\n",
      "5.0 3.7624999999999997\n",
      "\n",
      "2.0 2.75\n"
     ]
    },
    {
     "name": "stderr",
     "output_type": "stream",
     "text": [
      "100%|██████████| 357046/357046 [00:02<00:00, 155364.83it/s]\n"
     ]
    }
   ],
   "source": [
    "targets = np.array([r.score for r in reviews])\n",
    "preds = np.zeros(len(targets))\n",
    "for i, r in enumerate(tqdm(reviews)):\n",
    "    r_words = r.review.split()\n",
    "    s = 0\n",
    "    n = 0\n",
    "    for word in r_words:\n",
    "        if word in words:\n",
    "            s += words[word]\n",
    "            n += 1\n",
    "    if s == 0:\n",
    "        s = 2.75\n",
    "    else:\n",
    "        s /= n\n",
    "    preds[i] = s\n",
    "    if i < 10:\n",
    "        print(r.review)\n",
    "        print(r.score, preds[i])"
   ]
  },
  {
   "cell_type": "code",
   "execution_count": 83,
   "metadata": {},
   "outputs": [
    {
     "data": {
      "text/plain": [
       "<matplotlib.collections.PathCollection at 0x7f3aeff60df0>"
      ]
     },
     "execution_count": 83,
     "metadata": {},
     "output_type": "execute_result"
    },
    {
     "data": {
      "image/png": "[encoded data removed]",
      "text/plain": [
       "<Figure size 432x288 with 1 Axes>"
      ]
     },
     "metadata": {
      "needs_background": "light"
     },
     "output_type": "display_data"
    }
   ],
   "source": [
    "plt.scatter(targets, preds)"
   ]
  },
  {
   "cell_type": "code",
   "execution_count": 84,
   "metadata": {},
   "outputs": [
    {
     "data": {
      "text/plain": [
       "0.8528564775001631"
      ]
     },
     "execution_count": 84,
     "metadata": {},
     "output_type": "execute_result"
    }
   ],
   "source": [
    "np.abs(targets-preds).mean()"
   ]
  }
 ],
 "metadata": {
  "interpreter": {
   "hash": "e5a96763c68ac257ed8ea308563acecddbb2c538b6c4a909f20db851019b4d67"
  },
  "kernelspec": {
   "display_name": "Python 3.9.7 64-bit ('3.9.7': pyenv)",
   "name": "python3"
  },
  "language_info": {
   "codemirror_mode": {
    "name": "ipython",
    "version": 3
   },
   "file_extension": ".py",
   "mimetype": "text/x-python",
   "name": "python",
   "nbconvert_exporter": "python",
   "pygments_lexer": "ipython3",
   "version": "3.9.7"
  },
  "orig_nbformat": 4
 },
 "nbformat": 4,
 "nbformat_minor": 2
}
